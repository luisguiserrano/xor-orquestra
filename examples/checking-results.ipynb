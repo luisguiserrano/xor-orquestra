{
 "cells": [
  {
   "cell_type": "code",
   "execution_count": 1,
   "metadata": {},
   "outputs": [],
   "source": [
    "import json"
   ]
  },
  {
   "cell_type": "code",
   "execution_count": 2,
   "metadata": {},
   "outputs": [],
   "source": [
    "with open('./06622a2b-0d0e-5b24-a1d9-f0ab0e69577a.json') as f:\n",
    "    data = json.load(f)"
   ]
  },
  {
   "cell_type": "code",
   "execution_count": 8,
   "metadata": {},
   "outputs": [
    {
     "data": {
      "text/plain": [
       "{'xor-orq-5zdwl-2715645114': {'class': 'train-model',\n",
       "  'id': 'xor-orq-5zdwl-2715645114',\n",
       "  'inputParam:command': 'python3 main.py',\n",
       "  'inputParam:cpu': '1000m',\n",
       "  'inputParam:disk': '10Gi',\n",
       "  'inputParam:docker-image': 'z-ml',\n",
       "  'inputParam:docker-registry': 'zapatacomputing',\n",
       "  'inputParam:docker-tag': 'latest',\n",
       "  'inputParam:epochs': '500',\n",
       "  'inputParam:hidden_layer': '8',\n",
       "  'inputParam:lr': '0.01',\n",
       "  'inputParam:memory': '1024Mi',\n",
       "  'result': {'id': 'xor-orq-5zdwl-2715645114/result',\n",
       "   'predictions': '[[0.2540998160839081], [0.4957783818244934], [0.7470756769180298], [0.47534796595573425]]',\n",
       "   'schema': 'orquestra-v1-data',\n",
       "   'taskClass': 'train-model',\n",
       "   'taskId': 'xor-orq-5zdwl-2715645114',\n",
       "   'workflowId': 'xor-orq-5zdwl'},\n",
       "  'workflowId': 'xor-orq-5zdwl'}}"
      ]
     },
     "execution_count": 8,
     "metadata": {},
     "output_type": "execute_result"
    }
   ],
   "source": [
    "data"
   ]
  },
  {
   "cell_type": "code",
   "execution_count": 10,
   "metadata": {},
   "outputs": [
    {
     "name": "stdout",
     "output_type": "stream",
     "text": [
      "xor-orq-5zdwl-2715645114\n"
     ]
    }
   ],
   "source": [
    "for k in data.keys():\n",
    "    print(k)"
   ]
  },
  {
   "cell_type": "code",
   "execution_count": 13,
   "metadata": {},
   "outputs": [
    {
     "data": {
      "text/plain": [
       "{'class': 'train-model',\n",
       " 'id': 'xor-orq-5zdwl-2715645114',\n",
       " 'inputParam:command': 'python3 main.py',\n",
       " 'inputParam:cpu': '1000m',\n",
       " 'inputParam:disk': '10Gi',\n",
       " 'inputParam:docker-image': 'z-ml',\n",
       " 'inputParam:docker-registry': 'zapatacomputing',\n",
       " 'inputParam:docker-tag': 'latest',\n",
       " 'inputParam:epochs': '500',\n",
       " 'inputParam:hidden_layer': '8',\n",
       " 'inputParam:lr': '0.01',\n",
       " 'inputParam:memory': '1024Mi',\n",
       " 'result': {'id': 'xor-orq-5zdwl-2715645114/result',\n",
       "  'predictions': '[[0.2540998160839081], [0.4957783818244934], [0.7470756769180298], [0.47534796595573425]]',\n",
       "  'schema': 'orquestra-v1-data',\n",
       "  'taskClass': 'train-model',\n",
       "  'taskId': 'xor-orq-5zdwl-2715645114',\n",
       "  'workflowId': 'xor-orq-5zdwl'},\n",
       " 'workflowId': 'xor-orq-5zdwl'}"
      ]
     },
     "execution_count": 13,
     "metadata": {},
     "output_type": "execute_result"
    }
   ],
   "source": [
    "d = data['xor-orq-5zdwl-2715645114']\n",
    "d"
   ]
  },
  {
   "cell_type": "code",
   "execution_count": 15,
   "metadata": {},
   "outputs": [
    {
     "data": {
      "text/plain": [
       "'[[0.2540998160839081], [0.4957783818244934], [0.7470756769180298], [0.47534796595573425]]'"
      ]
     },
     "execution_count": 15,
     "metadata": {},
     "output_type": "execute_result"
    }
   ],
   "source": [
    "d['result']['predictions']"
   ]
  },
  {
   "cell_type": "code",
   "execution_count": null,
   "metadata": {},
   "outputs": [],
   "source": []
  }
 ],
 "metadata": {
  "kernelspec": {
   "display_name": "Python 3",
   "language": "python",
   "name": "python3"
  },
  "language_info": {
   "codemirror_mode": {
    "name": "ipython",
    "version": 3
   },
   "file_extension": ".py",
   "mimetype": "text/x-python",
   "name": "python",
   "nbconvert_exporter": "python",
   "pygments_lexer": "ipython3",
   "version": "3.7.6"
  }
 },
 "nbformat": 4,
 "nbformat_minor": 4
}
